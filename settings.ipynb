{
 "cells": [
  {
   "cell_type": "markdown",
   "metadata": {},
   "source": [
    "Markdown 문법 \n",
    "==="
   ]
  },
  {
   "cell_type": "markdown",
   "metadata": {},
   "source": [
    "## 1. Markdown이란?\n",
    "\n",
    "텍스트 기반의 언어로 쉽게 쓰고 읽을 수 있으며 HTML로 변환이 가능."
   ]
  },
  {
   "cell_type": "markdown",
   "metadata": {},
   "source": [
    "## 1.1 마크다운의 장점\n",
    "1. 간결함\n",
    "2. 텍스트로 저장되기 때문에 용량이 적음\n",
    "3. 지원하는 프로그램과 플랫폼이 다양함 (특히 Github)\n",
    "\n",
    "## 1.2 마크다운의 단점\n",
    "1. 표준이 없음\n",
    "2. 표준이 없기 때문에 사용 도구에 따라 변환방식이나 생성물이 다름   "
   ]
  },
  {
   "cell_type": "markdown",
   "metadata": {},
   "source": [
    "# 2. Markdown 사용법"
   ]
  },
  {
   "cell_type": "markdown",
   "metadata": {},
   "source": [
    "## 2.1 제목"
   ]
  },
  {
   "cell_type": "markdown",
   "metadata": {},
   "source": [
    "* 큰 제목\n",
    "  \n",
    "  ```\n",
    "  큰 제목입니다\n",
    "  ============\n",
    "  ```\n",
    "\n",
    "  큰 제목입니다\n",
    "  ==="
   ]
  },
  {
   "cell_type": "markdown",
   "metadata": {},
   "source": [
    "* 작은 제목\n",
    "  \n",
    "  ```\n",
    "  작은 제목입니다\n",
    "  --------------\n",
    "  ```\n",
    "\n",
    "  작은 제목입니다\n",
    "  ---"
   ]
  },
  {
   "cell_type": "markdown",
   "metadata": {},
   "source": [
    "* 글머리: 1~6까지 지원\n",
    "\n",
    "  ```\n",
    "  # 글머리 1\n",
    "  ## 글머리 2\n",
    "  ### 글머리 3\n",
    "  #### 글머리 4\n",
    "  ##### 글머리 5\n",
    "  ###### 글머리 6\n",
    "  ```\n",
    "  # 글머리 1\n",
    "  ## 글머리 2\n",
    "  ### 글머리 3\n",
    "  #### 글머리 4\n",
    "  ##### 글머리 5\n",
    "  ###### 글머리 6\n",
    "  ####### 글머리 7 (지원하지 않음)"
   ]
  },
  {
   "cell_type": "markdown",
   "metadata": {},
   "source": [
    "## 2.2. 목록\n",
    "\n",
    "### 2.2.1. 순서 있는 목록(번호)\n",
    "    \n",
    "```\n",
    "1. 첫번째\n",
    "3. 두번째\n",
    "2. 세번째\n",
    "```\n",
    "1. 첫번째\n",
    "2. 두번째\n",
    "3. 세번째\n",
    "\n",
    "### 2.2.2. 순서 없는 목록(글머리 기호: `*`, `+`, `-` 사용)\n",
    "\n",
    "```\n",
    "* 1st\n",
    "  * 2nd\n",
    "    * 3rd\n",
    "\n",
    "+ 1st\n",
    "  + 2nd\n",
    "    + 3rd\n",
    "\n",
    "- 1st\n",
    "  - 2nd\n",
    "    - 3rd\n",
    "\n",
    "* 혼합1\n",
    "  + 혼합2\n",
    "    - 혼합3\n",
    "```\n",
    "\n",
    "* 1st\n",
    "  * 2nd\n",
    "    * 3rd\n",
    "  * 4th\n",
    "\n",
    "+ 1st\n",
    "  + 2nd\n",
    "    + 3rd\n",
    "\n",
    "- 1st\n",
    "  - 2nd\n",
    "    - 3rd\n",
    "  \n",
    "* 혼합1\n",
    "  + 혼합2\n",
    "    - 혼합3"
   ]
  },
  {
   "cell_type": "markdown",
   "metadata": {},
   "source": [
    "## 2.3. BlockQuote\n",
    "\n",
    "```\n",
    "> This is the first\n",
    ">   > This is the second\n",
    ">   >   > This is the third\n",
    "```\n",
    "\n",
    "> This is the first\n",
    ">   > This is the second\n",
    ">   >   > This is the third"
   ]
  },
  {
   "cell_type": "markdown",
   "metadata": {},
   "source": [
    "```\n",
    "> 다른 요소도 포함됨\n",
    "> * 머리글\n",
    "> ```\n",
    "> code\n",
    "> ```\n",
    "```\n",
    "> 다른 요소도 포함됨\n",
    "> * 머리글\n",
    "> ```\n",
    "> code\n",
    "> ```"
   ]
  },
  {
   "cell_type": "markdown",
   "metadata": {},
   "source": [
    "## 2.4. 코드블럭\n",
    "\n",
    "```\n",
    "class MyClass():\n",
    "    def __init__():\n",
    "        pass\n",
    "```"
   ]
  },
  {
   "cell_type": "markdown",
   "metadata": {},
   "source": [
    "```python\n",
    "class MyClass():\n",
    "    def __init__():\n",
    "        pass\n",
    "```"
   ]
  },
  {
   "cell_type": "markdown",
   "metadata": {},
   "source": [
    "## 2.5. 링크\n",
    "\n",
    "```\n",
    "[키워드](링크)\n",
    "예: [구글](https://google.com)\n",
    "\n",
    "<링크>\n",
    "예: 구글: <https://google.com>\n",
    "```\n",
    "\n",
    "링크: [구글](https://google.com)\n",
    "\n",
    "구글: <https://google.com>"
   ]
  },
  {
   "cell_type": "markdown",
   "metadata": {},
   "source": [
    "Anaconda 셋팅\n",
    "============="
   ]
  },
  {
   "cell_type": "markdown",
   "metadata": {},
   "source": [
    "1. Anaconda Prompt 실행\n",
    "2. 가상환경 생성 (python v3.7 기준)\n",
    "   \n",
    "   ```bash\n",
    "   (base) C:/User/User> conda create -n summer python=3.7\n",
    "   (base) C:/User/User> conda activate summer\n",
    "   (summer) C:/User/User> conda deactivate summer\n",
    "   (base) C:/User/User> conda activate summer\n",
    "   (summer) C:/User/User> conda list\n",
    "   ```"
   ]
  },
  {
   "cell_type": "markdown",
   "metadata": {},
   "source": [
    "아무거나 추가"
   ]
  },
  {
   "cell_type": "markdown",
   "metadata": {},
   "source": [
    "추가"
   ]
  },
  {
   "cell_type": "markdown",
   "metadata": {},
   "source": []
  }
 ],
 "metadata": {
  "language_info": {
   "name": "python"
  },
  "orig_nbformat": 4
 },
 "nbformat": 4,
 "nbformat_minor": 2
}
